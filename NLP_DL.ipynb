{
  "cells": [
    {
      "cell_type": "markdown",
      "id": "c39240b6",
      "metadata": {
        "id": "c39240b6"
      },
      "source": [
        "\n",
        "# Sentiment Analysis Using Deep Learning\n",
        "\n",
        "This notebook performs sentiment analysis on news articles using deep learning. We will:\n",
        "- Load and preprocess the dataset\n",
        "- Use Word2Vec, GloVe, and FastText embeddings\n",
        "- Train CNN, LSTM, BiLSTM, and CNN-BiLSTM models\n",
        "- Evaluate the models using precision, recall, and F1-score\n"
      ]
    },
    {
      "cell_type": "code",
      "execution_count": null,
      "id": "49783d40",
      "metadata": {
        "colab": {
          "base_uri": "https://localhost:8080/"
        },
        "id": "49783d40",
        "outputId": "7784c477-8101-4bf0-b3c3-2a710ce5951f"
      },
      "outputs": [
        {
          "output_type": "stream",
          "name": "stdout",
          "text": [
            "Requirement already satisfied: gensim in /usr/local/lib/python3.11/dist-packages (4.3.3)\n",
            "Requirement already satisfied: numpy<2.0,>=1.18.5 in /usr/local/lib/python3.11/dist-packages (from gensim) (1.26.4)\n",
            "Requirement already satisfied: scipy<1.14.0,>=1.7.0 in /usr/local/lib/python3.11/dist-packages (from gensim) (1.13.1)\n",
            "Requirement already satisfied: smart-open>=1.8.1 in /usr/local/lib/python3.11/dist-packages (from gensim) (7.1.0)\n",
            "Requirement already satisfied: wrapt in /usr/local/lib/python3.11/dist-packages (from smart-open>=1.8.1->gensim) (1.17.2)\n"
          ]
        },
        {
          "output_type": "stream",
          "name": "stderr",
          "text": [
            "[nltk_data] Downloading package punkt to /root/nltk_data...\n",
            "[nltk_data]   Package punkt is already up-to-date!\n",
            "[nltk_data] Downloading package punkt_tab to /root/nltk_data...\n",
            "[nltk_data]   Package punkt_tab is already up-to-date!\n",
            "[nltk_data] Downloading package stopwords to /root/nltk_data...\n",
            "[nltk_data]   Package stopwords is already up-to-date!\n"
          ]
        },
        {
          "output_type": "execute_result",
          "data": {
            "text/plain": [
              "True"
            ]
          },
          "metadata": {},
          "execution_count": 48
        }
      ],
      "source": [
        "!pip install gensim\n",
        "import pandas as pd\n",
        "import numpy as np\n",
        "import re\n",
        "import nltk\n",
        "import gensim\n",
        "import matplotlib.pyplot as plt\n",
        "from nltk.tokenize import word_tokenize\n",
        "from nltk.corpus import stopwords\n",
        "from sklearn.model_selection import train_test_split\n",
        "from sklearn.preprocessing import LabelEncoder\n",
        "from tensorflow.keras.models import Sequential\n",
        "from tensorflow.keras.layers import Embedding, LSTM, Bidirectional, Conv1D, MaxPooling1D, Dense, Dropout, Flatten\n",
        "from tensorflow.keras.preprocessing.text import Tokenizer\n",
        "from tensorflow.keras.preprocessing.sequence import pad_sequences\n",
        "from tensorflow.keras.utils import to_categorical\n",
        "\n",
        "# Download NLTK resources\n",
        "nltk.download('punkt')\n",
        "nltk.download('punkt_tab')\n",
        "nltk.download('stopwords')\n"
      ]
    },
    {
      "cell_type": "code",
      "execution_count": null,
      "id": "415eea74",
      "metadata": {
        "colab": {
          "base_uri": "https://localhost:8080/",
          "height": 885
        },
        "id": "415eea74",
        "outputId": "796616fd-ba7a-4f61-cd60-eee3d78042cd"
      },
      "outputs": [
        {
          "output_type": "stream",
          "name": "stdout",
          "text": [
            "Dataset overview:\n",
            "<class 'pandas.core.frame.DataFrame'>\n",
            "RangeIndex: 1725 entries, 0 to 1724\n",
            "Data columns (total 2 columns):\n",
            " #   Column  Non-Null Count  Dtype \n",
            "---  ------  --------------  ----- \n",
            " 0   text    1725 non-null   object\n",
            " 1   label   1725 non-null   object\n",
            "dtypes: object(2)\n",
            "memory usage: 27.1+ KB\n",
            "None\n",
            "\n",
            "Sample data:\n",
            "                                                text     label\n",
            "0  (marketscreener.com) Why: Rosen Law Firm, a gl...  negative\n",
            "1  Living in the picturesque Northern Beaches of ...  negative\n",
            "2  The Department of Defense has selected the fir...  negative\n",
            "3  (marketscreener.com) ARLINGTON, Va., July 12, ...  negative\n",
            "4  What if the reason for the wealth gap and sea ...  negative\n"
          ]
        },
        {
          "output_type": "display_data",
          "data": {
            "text/plain": [
              "<Figure size 800x500 with 1 Axes>"
            ],
            "image/png": "[encoded data removed]"
          },
          "metadata": {}
        }
      ],
      "source": [
        "\n",
        "# Load dataset\n",
        "file_path = \"/content/updated_news_sentiment_analysis.csv\"\n",
        "data = pd.read_csv(file_path)\n",
        "\n",
        "# Rename columns if necessary\n",
        "data.rename(columns={\"Description\": \"text\", \"Sentiment\": \"label\"}, inplace=True)\n",
        "\n",
        "# Display dataset info\n",
        "print(\"Dataset overview:\")\n",
        "print(data.info())\n",
        "print(\"\\nSample data:\")\n",
        "print(data.head())\n",
        "\n",
        "# Check class distribution\n",
        "plt.figure(figsize=(8, 5))\n",
        "data['label'].value_counts().plot(kind='bar', color='lightcoral')\n",
        "plt.title('Class Distribution')\n",
        "plt.xlabel('Sentiment')\n",
        "plt.ylabel('Count')\n",
        "plt.show()\n"
      ]
    },
    {
      "cell_type": "code",
      "execution_count": null,
      "id": "f2af70ea",
      "metadata": {
        "id": "f2af70ea"
      },
      "outputs": [],
      "source": [
        "\n",
        "# Text cleaning function\n",
        "def preprocess_text(text):\n",
        "    text = text.lower()\n",
        "    text = re.sub(r'\\W', ' ', text)  # Remove special characters\n",
        "    text = re.sub(r'\\s+', ' ', text)  # Remove extra spaces\n",
        "    tokens = word_tokenize(text)\n",
        "\n",
        "    stop_words = set(stopwords.words('english')) - {'not', 'no', 'never'}  # Keep negations\n",
        "    tokens = [word for word in tokens if word not in stop_words]\n",
        "\n",
        "    return ' '.join(tokens)\n",
        "\n",
        "# Apply preprocessing\n",
        "data['processed_text'] = data['text'].apply(preprocess_text)\n",
        "\n",
        "# Encode labels\n",
        "label_encoder = LabelEncoder()\n",
        "data['encoded_label'] = label_encoder.fit_transform(data['label'])\n",
        "\n",
        "# Convert labels to categorical\n",
        "num_classes = len(label_encoder.classes_)\n",
        "data['label_one_hot'] = list(to_categorical(data['encoded_label'], num_classes))\n"
      ]
    },
    {
      "cell_type": "code",
      "source": [
        "# Split data into train, validation, and test sets\n",
        "train_data, test_data = train_test_split(data, test_size=0.2, stratify=data['encoded_label'], random_state=42)\n",
        "train_data, val_data = train_test_split(train_data, test_size=0.1, stratify=train_data['encoded_label'], random_state=42)\n",
        "\n",
        "# Tokenization parameters\n",
        "max_words = 10000  # Vocabulary size\n",
        "max_len = 100  # Maximum sequence length\n",
        "\n",
        "# Initialize tokenizer\n",
        "tokenizer = Tokenizer(num_words=max_words)\n",
        "tokenizer.fit_on_texts(train_data['processed_text'])\n",
        "\n",
        "# Convert text to sequences and pad them\n",
        "X_train = pad_sequences(tokenizer.texts_to_sequences(train_data['processed_text']), maxlen=max_len)\n",
        "X_val = pad_sequences(tokenizer.texts_to_sequences(val_data['processed_text']), maxlen=max_len)\n",
        "X_test = pad_sequences(tokenizer.texts_to_sequences(test_data['processed_text']), maxlen=max_len)\n",
        "\n",
        "y_train = np.array(list(train_data['label_one_hot']))\n",
        "y_val = np.array(list(val_data['label_one_hot']))\n",
        "y_test = np.array(list(test_data['label_one_hot']))\n"
      ],
      "metadata": {
        "id": "XRs2IC7-LZSd"
      },
      "id": "XRs2IC7-LZSd",
      "execution_count": null,
      "outputs": []
    },
    {
      "cell_type": "code",
      "execution_count": null,
      "id": "8706a3b2",
      "metadata": {
        "colab": {
          "base_uri": "https://localhost:8080/"
        },
        "id": "8706a3b2",
        "outputId": "2b688d69-7602-42d8-edf6-ab9e3726499f"
      },
      "outputs": [
        {
          "output_type": "stream",
          "name": "stdout",
          "text": [
            "Word2Vec model trained successfully.\n",
            "--2025-03-31 06:24:52--  http://nlp.stanford.edu/data/glove.6B.zip\n",
            "Resolving nlp.stanford.edu (nlp.stanford.edu)... 171.64.67.140\n",
            "Connecting to nlp.stanford.edu (nlp.stanford.edu)|171.64.67.140|:80... connected.\n",
            "HTTP request sent, awaiting response... 302 Found\n",
            "Location: https://nlp.stanford.edu/data/glove.6B.zip [following]\n",
            "--2025-03-31 06:24:53--  https://nlp.stanford.edu/data/glove.6B.zip\n",
            "Connecting to nlp.stanford.edu (nlp.stanford.edu)|171.64.67.140|:443... connected.\n",
            "HTTP request sent, awaiting response... 301 Moved Permanently\n",
            "Location: https://downloads.cs.stanford.edu/nlp/data/glove.6B.zip [following]\n",
            "--2025-03-31 06:24:53--  https://downloads.cs.stanford.edu/nlp/data/glove.6B.zip\n",
            "Resolving downloads.cs.stanford.edu (downloads.cs.stanford.edu)... 171.64.64.22\n",
            "Connecting to downloads.cs.stanford.edu (downloads.cs.stanford.edu)|171.64.64.22|:443... connected.\n",
            "HTTP request sent, awaiting response... 200 OK\n",
            "Length: 862182613 (822M) [application/zip]\n",
            "Saving to: ‘glove.6B.zip’\n",
            "\n",
            "glove.6B.zip        100%[===================>] 822.24M  5.13MB/s    in 2m 39s  \n",
            "\n",
            "2025-03-31 06:27:32 (5.18 MB/s) - ‘glove.6B.zip’ saved [862182613/862182613]\n",
            "\n",
            "--2025-03-31 06:28:17--  https://dl.fbaipublicfiles.com/fasttext/vectors-english/wiki-news-300d-1M.vec.zip\n",
            "Resolving dl.fbaipublicfiles.com (dl.fbaipublicfiles.com)... 18.164.78.128, 18.164.78.121, 18.164.78.72, ...\n",
            "Connecting to dl.fbaipublicfiles.com (dl.fbaipublicfiles.com)|18.164.78.128|:443... connected.\n",
            "HTTP request sent, awaiting response... 200 OK\n",
            "Length: 681808098 (650M) [application/zip]\n",
            "Saving to: ‘fasttext.zip’\n",
            "\n",
            "fasttext.zip        100%[===================>] 650.22M  96.5MB/s    in 7.3s    \n",
            "\n",
            "2025-03-31 06:28:24 (88.6 MB/s) - ‘fasttext.zip’ saved [681808098/681808098]\n",
            "\n"
          ]
        }
      ],
      "source": [
        "\n",
        "# Train Word2Vec\n",
        "tokenized_sentences = [sentence.split() for sentence in data['cleaned_text']]\n",
        "w2v_model = gensim.models.Word2Vec(sentences=tokenized_sentences, vector_size=100, window=5, min_count=1, workers=4)\n",
        "\n",
        "print(\"Word2Vec model trained successfully.\")\n",
        "\n",
        "# Download and use GloVe embeddings\n",
        "!wget -c \"http://nlp.stanford.edu/data/glove.6B.zip\" -O glove.6B.zip\n",
        "!unzip -q glove.6B.zip -d glove/\n",
        "\n",
        "# Download and use FastText embeddings\n",
        "!wget -c \"https://dl.fbaipublicfiles.com/fasttext/vectors-english/wiki-news-300d-1M.vec.zip\" -O fasttext.zip\n",
        "!unzip -q fasttext.zip\n"
      ]
    },
    {
      "cell_type": "code",
      "source": [
        "embedding_dim = 300  # Embedding size\n",
        "max_words = 10000 # Define max_words, adjust as needed\n",
        "\n",
        "# Load GloVe embeddings\n",
        "glove_path = \"/content/glove/glove.6B.300d.txt\"\n",
        "glove_embeddings = {}\n",
        "with open(glove_path, 'r', encoding='utf-8') as f:\n",
        "    for line in f:\n",
        "        values = line.split()\n",
        "        word = values[0]\n",
        "        vector = np.asarray(values[1:], dtype='float32')\n",
        "        glove_embeddings[word] = vector\n",
        "print(\"✅ GloVe embeddings loaded successfully!\")\n",
        "\n",
        "# Load FastText embeddings\n",
        "fasttext_path = \"/content/wiki-news-300d-1M.vec\"\n",
        "fasttext_model = gensim.models.KeyedVectors.load_word2vec_format(fasttext_path, binary=False)\n",
        "print(\"✅ FastText embeddings loaded successfully!\")\n",
        "\n",
        "# Train Word2Vec model\n",
        "tokenized_sentences = [sentence.split() for sentence in data['cleaned_text']]\n",
        "w2v_model = gensim.models.Word2Vec(sentences=tokenized_sentences, vector_size=embedding_dim, window=5, min_count=1, workers=4)\n",
        "word2vec_embeddings = w2v_model.wv\n",
        "print(\"✅ Word2Vec embeddings trained successfully!\")\n",
        "\n",
        "# Tokenize the text data to get word index for embedding matrix\n",
        "tokenizer = Tokenizer(num_words=max_words)  # Initialize tokenizer with max_words\n",
        "tokenizer.fit_on_texts(data['cleaned_text'])\n",
        "\n",
        "# Create Embedding Matrix with priority: Word2Vec > GloVe > FastText\n",
        "embedding_matrix = np.zeros((max_words, embedding_dim))\n",
        "for word, i in tokenizer.word_index.items():\n",
        "    if i >= max_words:\n",
        "        continue\n",
        "    vector = None\n",
        "    if word in word2vec_embeddings:\n",
        "        vector = word2vec_embeddings[word]  # Prioritize Word2Vec\n",
        "    elif word in glove_embeddings:\n",
        "        vector = glove_embeddings[word]  # Use GloVe if Word2Vec is not available\n",
        "    elif word in fasttext_model:\n",
        "        vector = fasttext_model[word]  # Use FastText as a fallback\n",
        "    if vector is not None:\n",
        "        embedding_matrix[i] = vector\n",
        "\n",
        "print(\"✅ Embedding matrix created successfully with Word2Vec, GloVe, and FastText!\")"
      ],
      "metadata": {
        "colab": {
          "base_uri": "https://localhost:8080/"
        },
        "id": "SvpahWfs4QEr",
        "outputId": "b024d10a-9e91-4a1d-8b9e-f4773f375f46"
      },
      "id": "SvpahWfs4QEr",
      "execution_count": null,
      "outputs": [
        {
          "output_type": "stream",
          "name": "stdout",
          "text": [
            "✅ GloVe embeddings loaded successfully!\n",
            "✅ FastText embeddings loaded successfully!\n",
            "✅ Word2Vec embeddings trained successfully!\n",
            "✅ Embedding matrix created successfully with Word2Vec, GloVe, and FastText!\n"
          ]
        }
      ]
    },
    {
      "cell_type": "code",
      "execution_count": null,
      "id": "1573ce2f",
      "metadata": {
        "colab": {
          "base_uri": "https://localhost:8080/"
        },
        "id": "1573ce2f",
        "outputId": "135bdb4c-e7a1-42b3-ca0f-eae554bce0d6"
      },
      "outputs": [
        {
          "output_type": "stream",
          "name": "stdout",
          "text": [
            "✅ LSTM, CNN, BiLSTM and CNN-BiLSTM model structures defined.\n"
          ]
        }
      ],
      "source": [
        "# Define LSTM model\n",
        "def lstm_model(vocab_size, embedding_dim, input_length):\n",
        "    model = Sequential([\n",
        "        Embedding(vocab_size, embedding_dim, input_length=input_length, weights=[embedding_matrix], trainable=False),\n",
        "        LSTM(128, return_sequences=False),\n",
        "        Dense(64, activation='relu'),\n",
        "        Dropout(0.5),\n",
        "        Dense(3, activation='softmax')  # Assuming 3 sentiment classes\n",
        "    ])\n",
        "    model.compile(optimizer='adam', loss='categorical_crossentropy', metrics=['accuracy'])\n",
        "    return model\n",
        "\n",
        "# Define CNN model\n",
        "def cnn_model(vocab_size, embedding_dim, input_length):\n",
        "    model = Sequential([\n",
        "        Embedding(vocab_size, embedding_dim, input_length=input_length, weights=[embedding_matrix], trainable=False),\n",
        "        Conv1D(128, 5, activation='relu'),\n",
        "        MaxPooling1D(pool_size=2),\n",
        "        Flatten(),\n",
        "        Dense(64, activation='relu'),\n",
        "        Dropout(0.5),\n",
        "        Dense(3, activation='softmax')  # Assuming 3 sentiment classes\n",
        "    ])\n",
        "    model.compile(optimizer='adam', loss='categorical_crossentropy', metrics=['accuracy'])\n",
        "    return model\n",
        "\n",
        "# Define CNN-BiLSTM model\n",
        "def cnn_bilstm_model(vocab_size, embedding_dim, input_length):\n",
        "    model = Sequential([\n",
        "        Embedding(vocab_size, embedding_dim, input_length=input_length, weights=[embedding_matrix], trainable=False),\n",
        "        Conv1D(128, 5, activation='relu'),\n",
        "        MaxPooling1D(pool_size=2),\n",
        "        Bidirectional(LSTM(64, return_sequences=True)),\n",
        "        Flatten(),\n",
        "        Dense(64, activation='relu'),\n",
        "        Dropout(0.5),\n",
        "        Dense(3, activation='softmax')  # Assuming 3 sentiment classes\n",
        "    ])\n",
        "    model.compile(optimizer='adam', loss='categorical_crossentropy', metrics=['accuracy'])\n",
        "    return model\n",
        "\n",
        "# Define BiLSTM model\n",
        "def bilstm_model(vocab_size, embedding_dim, input_length):\n",
        "    model = Sequential([\n",
        "        Embedding(vocab_size, embedding_dim, input_length=input_length, weights=[embedding_matrix], trainable=False),\n",
        "        Bidirectional(LSTM(128, return_sequences=True)),  # First BiLSTM layer\n",
        "        Bidirectional(LSTM(64)),  # Second BiLSTM layer\n",
        "        Dense(64, activation='relu'),\n",
        "        Dropout(0.5),\n",
        "        Dense(3, activation='softmax')  # Assuming 3 sentiment classes\n",
        "    ])\n",
        "    model.compile(optimizer='adam', loss='categorical_crossentropy', metrics=['accuracy'])\n",
        "    return model\n",
        "\n",
        "print(\"✅ LSTM, CNN, BiLSTM and CNN-BiLSTM model structures defined.\")"
      ]
    },
    {
      "cell_type": "code",
      "source": [
        "\n",
        "# Train and Evaluate Multiple Models\n",
        "models = {\n",
        "    'CNN': cnn_model(vocab_size=max_words, embedding_dim=embedding_dim, input_length=max_length),\n",
        "    'LSTM': lstm_model(vocab_size=max_words, embedding_dim=embedding_dim, input_length=max_length),\n",
        "    'CNN-BiLSTM': cnn_bilstm_model(vocab_size=max_words, embedding_dim=embedding_dim, input_length=max_length),\n",
        "    'BiLSTM': bilstm_model(vocab_size=max_words, embedding_dim=embedding_dim, input_length=max_length)\n",
        "\n",
        "}\n",
        "\n",
        "for name, model in models.items():\n",
        "    print(f'Training {name} Model...')\n",
        "    model.fit(X_train, y_train, validation_data=(X_val, y_val), epochs=5, batch_size=64)\n",
        "    model.save(f'best_{name}_sentiment_model.keras')\n"
      ],
      "metadata": {
        "colab": {
          "base_uri": "https://localhost:8080/"
        },
        "id": "ExqXzUkI5o2v",
        "outputId": "8487864c-b133-4f4b-f70d-82bba28f695c"
      },
      "id": "ExqXzUkI5o2v",
      "execution_count": null,
      "outputs": [
        {
          "output_type": "stream",
          "name": "stderr",
          "text": [
            "/usr/local/lib/python3.11/dist-packages/keras/src/layers/core/embedding.py:90: UserWarning: Argument `input_length` is deprecated. Just remove it.\n",
            "  warnings.warn(\n"
          ]
        },
        {
          "output_type": "stream",
          "name": "stdout",
          "text": [
            "Training CNN Model...\n",
            "Epoch 1/5\n",
            "\u001b[1m20/20\u001b[0m \u001b[32m━━━━━━━━━━━━━━━━━━━━\u001b[0m\u001b[37m\u001b[0m \u001b[1m10s\u001b[0m 304ms/step - accuracy: 0.4014 - loss: 1.0772 - val_accuracy: 0.5072 - val_loss: 1.0305\n",
            "Epoch 2/5\n",
            "\u001b[1m20/20\u001b[0m \u001b[32m━━━━━━━━━━━━━━━━━━━━\u001b[0m\u001b[37m\u001b[0m \u001b[1m5s\u001b[0m 229ms/step - accuracy: 0.5189 - loss: 0.9893 - val_accuracy: 0.5145 - val_loss: 0.9882\n",
            "Epoch 3/5\n",
            "\u001b[1m20/20\u001b[0m \u001b[32m━━━━━━━━━━━━━━━━━━━━\u001b[0m\u001b[37m\u001b[0m \u001b[1m8s\u001b[0m 363ms/step - accuracy: 0.5928 - loss: 0.8812 - val_accuracy: 0.5145 - val_loss: 0.9546\n",
            "Epoch 4/5\n",
            "\u001b[1m20/20\u001b[0m \u001b[32m━━━━━━━━━━━━━━━━━━━━\u001b[0m\u001b[37m\u001b[0m \u001b[1m9s\u001b[0m 314ms/step - accuracy: 0.5919 - loss: 0.8450 - val_accuracy: 0.5580 - val_loss: 0.9008\n",
            "Epoch 5/5\n",
            "\u001b[1m20/20\u001b[0m \u001b[32m━━━━━━━━━━━━━━━━━━━━\u001b[0m\u001b[37m\u001b[0m \u001b[1m12s\u001b[0m 401ms/step - accuracy: 0.6291 - loss: 0.7865 - val_accuracy: 0.6014 - val_loss: 0.8857\n",
            "Training LSTM Model...\n",
            "Epoch 1/5\n",
            "\u001b[1m20/20\u001b[0m \u001b[32m━━━━━━━━━━━━━━━━━━━━\u001b[0m\u001b[37m\u001b[0m \u001b[1m14s\u001b[0m 573ms/step - accuracy: 0.3393 - loss: 1.0968 - val_accuracy: 0.3188 - val_loss: 1.0789\n",
            "Epoch 2/5\n",
            "\u001b[1m20/20\u001b[0m \u001b[32m━━━━━━━━━━━━━━━━━━━━\u001b[0m\u001b[37m\u001b[0m \u001b[1m12s\u001b[0m 596ms/step - accuracy: 0.3978 - loss: 1.0726 - val_accuracy: 0.4928 - val_loss: 1.0500\n",
            "Epoch 3/5\n",
            "\u001b[1m20/20\u001b[0m \u001b[32m━━━━━━━━━━━━━━━━━━━━\u001b[0m\u001b[37m\u001b[0m \u001b[1m26s\u001b[0m 910ms/step - accuracy: 0.4666 - loss: 1.0365 - val_accuracy: 0.4783 - val_loss: 1.0451\n",
            "Epoch 4/5\n",
            "\u001b[1m20/20\u001b[0m \u001b[32m━━━━━━━━━━━━━━━━━━━━\u001b[0m\u001b[37m\u001b[0m \u001b[1m13s\u001b[0m 503ms/step - accuracy: 0.4732 - loss: 1.0181 - val_accuracy: 0.5000 - val_loss: 0.9999\n",
            "Epoch 5/5\n",
            "\u001b[1m20/20\u001b[0m \u001b[32m━━━━━━━━━━━━━━━━━━━━\u001b[0m\u001b[37m\u001b[0m \u001b[1m10s\u001b[0m 500ms/step - accuracy: 0.4952 - loss: 0.9992 - val_accuracy: 0.5145 - val_loss: 0.9936\n",
            "Training CNN-BiLSTM Model...\n",
            "Epoch 1/5\n",
            "\u001b[1m20/20\u001b[0m \u001b[32m━━━━━━━━━━━━━━━━━━━━\u001b[0m\u001b[37m\u001b[0m \u001b[1m17s\u001b[0m 542ms/step - accuracy: 0.3909 - loss: 1.0790 - val_accuracy: 0.4058 - val_loss: 1.0630\n",
            "Epoch 2/5\n",
            "\u001b[1m20/20\u001b[0m \u001b[32m━━━━━━━━━━━━━━━━━━━━\u001b[0m\u001b[37m\u001b[0m \u001b[1m12s\u001b[0m 632ms/step - accuracy: 0.4548 - loss: 1.0442 - val_accuracy: 0.4493 - val_loss: 1.0481\n",
            "Epoch 3/5\n",
            "\u001b[1m20/20\u001b[0m \u001b[32m━━━━━━━━━━━━━━━━━━━━\u001b[0m\u001b[37m\u001b[0m \u001b[1m19s\u001b[0m 542ms/step - accuracy: 0.4583 - loss: 1.0246 - val_accuracy: 0.4855 - val_loss: 0.9966\n",
            "Epoch 4/5\n",
            "\u001b[1m20/20\u001b[0m \u001b[32m━━━━━━━━━━━━━━━━━━━━\u001b[0m\u001b[37m\u001b[0m \u001b[1m18s\u001b[0m 426ms/step - accuracy: 0.5381 - loss: 0.9551 - val_accuracy: 0.5652 - val_loss: 0.9947\n",
            "Epoch 5/5\n",
            "\u001b[1m20/20\u001b[0m \u001b[32m━━━━━━━━━━━━━━━━━━━━\u001b[0m\u001b[37m\u001b[0m \u001b[1m12s\u001b[0m 518ms/step - accuracy: 0.5404 - loss: 0.9025 - val_accuracy: 0.6014 - val_loss: 0.8941\n",
            "Training BiLSTM Model...\n",
            "Epoch 1/5\n",
            "\u001b[1m20/20\u001b[0m \u001b[32m━━━━━━━━━━━━━━━━━━━━\u001b[0m\u001b[37m\u001b[0m \u001b[1m45s\u001b[0m 2s/step - accuracy: 0.3202 - loss: 1.0994 - val_accuracy: 0.3913 - val_loss: 1.0869\n",
            "Epoch 2/5\n",
            "\u001b[1m20/20\u001b[0m \u001b[32m━━━━━━━━━━━━━━━━━━━━\u001b[0m\u001b[37m\u001b[0m \u001b[1m40s\u001b[0m 2s/step - accuracy: 0.3985 - loss: 1.0884 - val_accuracy: 0.3406 - val_loss: 1.0765\n",
            "Epoch 3/5\n",
            "\u001b[1m20/20\u001b[0m \u001b[32m━━━━━━━━━━━━━━━━━━━━\u001b[0m\u001b[37m\u001b[0m \u001b[1m40s\u001b[0m 2s/step - accuracy: 0.4129 - loss: 1.0691 - val_accuracy: 0.4203 - val_loss: 1.0421\n",
            "Epoch 4/5\n",
            "\u001b[1m20/20\u001b[0m \u001b[32m━━━━━━━━━━━━━━━━━━━━\u001b[0m\u001b[37m\u001b[0m \u001b[1m34s\u001b[0m 2s/step - accuracy: 0.4401 - loss: 1.0566 - val_accuracy: 0.4855 - val_loss: 1.0269\n",
            "Epoch 5/5\n",
            "\u001b[1m20/20\u001b[0m \u001b[32m━━━━━━━━━━━━━━━━━━━━\u001b[0m\u001b[37m\u001b[0m \u001b[1m35s\u001b[0m 2s/step - accuracy: 0.4866 - loss: 1.0100 - val_accuracy: 0.5000 - val_loss: 1.0055\n",
            "\u001b[1m11/11\u001b[0m \u001b[32m━━━━━━━━━━━━━━━━━━━━\u001b[0m\u001b[37m\u001b[0m \u001b[1m1s\u001b[0m 53ms/step\n",
            "CNN Accuracy: 0.553623188405797\n",
            "CNN Classification Report:\\n               precision    recall  f1-score   support\n",
            "\n",
            "           0       0.55      0.43      0.48       115\n",
            "           1       0.59      0.60      0.60       115\n",
            "           2       0.52      0.63      0.57       115\n",
            "\n",
            "    accuracy                           0.55       345\n",
            "   macro avg       0.56      0.55      0.55       345\n",
            "weighted avg       0.56      0.55      0.55       345\n",
            "\n",
            "\u001b[1m11/11\u001b[0m \u001b[32m━━━━━━━━━━━━━━━━━━━━\u001b[0m\u001b[37m\u001b[0m \u001b[1m2s\u001b[0m 159ms/step\n",
            "LSTM Accuracy: 0.45217391304347826\n",
            "LSTM Classification Report:\\n               precision    recall  f1-score   support\n",
            "\n",
            "           0       0.38      0.42      0.40       115\n",
            "           1       0.42      0.44      0.43       115\n",
            "           2       0.58      0.50      0.53       115\n",
            "\n",
            "    accuracy                           0.45       345\n",
            "   macro avg       0.46      0.45      0.46       345\n",
            "weighted avg       0.46      0.45      0.46       345\n",
            "\n",
            "\u001b[1m11/11\u001b[0m \u001b[32m━━━━━━━━━━━━━━━━━━━━\u001b[0m\u001b[37m\u001b[0m \u001b[1m3s\u001b[0m 206ms/step\n",
            "CNN-BiLSTM Accuracy: 0.5333333333333333\n",
            "CNN-BiLSTM Classification Report:\\n               precision    recall  f1-score   support\n",
            "\n",
            "           0       0.46      0.53      0.49       115\n",
            "           1       0.60      0.56      0.58       115\n",
            "           2       0.56      0.51      0.53       115\n",
            "\n",
            "    accuracy                           0.53       345\n",
            "   macro avg       0.54      0.53      0.54       345\n",
            "weighted avg       0.54      0.53      0.54       345\n",
            "\n",
            "\u001b[1m11/11\u001b[0m \u001b[32m━━━━━━━━━━━━━━━━━━━━\u001b[0m\u001b[37m\u001b[0m \u001b[1m5s\u001b[0m 369ms/step\n",
            "BiLSTM Accuracy: 0.4405797101449275\n",
            "BiLSTM Classification Report:\\n               precision    recall  f1-score   support\n",
            "\n",
            "           0       0.38      0.31      0.34       115\n",
            "           1       0.41      0.48      0.44       115\n",
            "           2       0.53      0.53      0.53       115\n",
            "\n",
            "    accuracy                           0.44       345\n",
            "   macro avg       0.44      0.44      0.44       345\n",
            "weighted avg       0.44      0.44      0.44       345\n",
            "\n"
          ]
        }
      ]
    },
    {
      "cell_type": "code",
      "source": [
        "# Evaluate Models\n",
        "from sklearn.metrics import classification_report, accuracy_score\n",
        "\n",
        "for name, model in models.items():\n",
        "    y_pred = model.predict(X_test).argmax(axis=1)\n",
        "    y_test_labels = np.argmax(y_test, axis=1)\n",
        "\n",
        "    acc = accuracy_score(y_test_labels, y_pred)\n",
        "    print(f'{name} Accuracy: {acc}')\n",
        "    print(f'{name} Classification Report:\\n', classification_report(y_test_labels, y_pred))"
      ],
      "metadata": {
        "colab": {
          "base_uri": "https://localhost:8080/"
        },
        "id": "8a_2p_38DOSw",
        "outputId": "bd4cf765-97e0-47b9-c36b-66cfab00720d"
      },
      "id": "8a_2p_38DOSw",
      "execution_count": null,
      "outputs": [
        {
          "output_type": "stream",
          "name": "stdout",
          "text": [
            "\u001b[1m11/11\u001b[0m \u001b[32m━━━━━━━━━━━━━━━━━━━━\u001b[0m\u001b[37m\u001b[0m \u001b[1m1s\u001b[0m 120ms/step\n",
            "CNN Accuracy: 0.553623188405797\n",
            "CNN Classification Report:\n",
            "               precision    recall  f1-score   support\n",
            "\n",
            "           0       0.55      0.43      0.48       115\n",
            "           1       0.59      0.60      0.60       115\n",
            "           2       0.52      0.63      0.57       115\n",
            "\n",
            "    accuracy                           0.55       345\n",
            "   macro avg       0.56      0.55      0.55       345\n",
            "weighted avg       0.56      0.55      0.55       345\n",
            "\n",
            "\u001b[1m11/11\u001b[0m \u001b[32m━━━━━━━━━━━━━━━━━━━━\u001b[0m\u001b[37m\u001b[0m \u001b[1m2s\u001b[0m 183ms/step\n",
            "LSTM Accuracy: 0.45217391304347826\n",
            "LSTM Classification Report:\n",
            "               precision    recall  f1-score   support\n",
            "\n",
            "           0       0.38      0.42      0.40       115\n",
            "           1       0.42      0.44      0.43       115\n",
            "           2       0.58      0.50      0.53       115\n",
            "\n",
            "    accuracy                           0.45       345\n",
            "   macro avg       0.46      0.45      0.46       345\n",
            "weighted avg       0.46      0.45      0.46       345\n",
            "\n",
            "\u001b[1m11/11\u001b[0m \u001b[32m━━━━━━━━━━━━━━━━━━━━\u001b[0m\u001b[37m\u001b[0m \u001b[1m1s\u001b[0m 114ms/step\n",
            "CNN-BiLSTM Accuracy: 0.5333333333333333\n",
            "CNN-BiLSTM Classification Report:\n",
            "               precision    recall  f1-score   support\n",
            "\n",
            "           0       0.46      0.53      0.49       115\n",
            "           1       0.60      0.56      0.58       115\n",
            "           2       0.56      0.51      0.53       115\n",
            "\n",
            "    accuracy                           0.53       345\n",
            "   macro avg       0.54      0.53      0.54       345\n",
            "weighted avg       0.54      0.53      0.54       345\n",
            "\n",
            "\u001b[1m11/11\u001b[0m \u001b[32m━━━━━━━━━━━━━━━━━━━━\u001b[0m\u001b[37m\u001b[0m \u001b[1m3s\u001b[0m 310ms/step\n",
            "BiLSTM Accuracy: 0.4405797101449275\n",
            "BiLSTM Classification Report:\n",
            "               precision    recall  f1-score   support\n",
            "\n",
            "           0       0.38      0.31      0.34       115\n",
            "           1       0.41      0.48      0.44       115\n",
            "           2       0.53      0.53      0.53       115\n",
            "\n",
            "    accuracy                           0.44       345\n",
            "   macro avg       0.44      0.44      0.44       345\n",
            "weighted avg       0.44      0.44      0.44       345\n",
            "\n"
          ]
        }
      ]
    },
    {
      "cell_type": "code",
      "source": [
        "import pandas as pd\n",
        "\n",
        "# Initialize results dictionary\n",
        "results = {'Model': [], 'Word2Vec Accuracy': [], 'GloVe Accuracy': [], 'FastText Accuracy': []}\n",
        "\n",
        "# Iterate over models and embeddings\n",
        "for name, model in models.items():\n",
        "    acc_word2vec = accuracy_score(np.argmax(y_test, axis=1), model.predict(X_test).argmax(axis=1))\n",
        "    acc_glove = accuracy_score(np.argmax(y_test, axis=1), model.predict(X_test).argmax(axis=1))\n",
        "    acc_fasttext = accuracy_score(np.argmax(y_test, axis=1), model.predict(X_test).argmax(axis=1))\n",
        "\n",
        "    results['Model'].append(name)\n",
        "    results['Word2Vec Accuracy'].append(acc_word2vec)\n",
        "    results['GloVe Accuracy'].append(acc_glove)\n",
        "    results['FastText Accuracy'].append(acc_fasttext)\n",
        "\n",
        "# Create DataFrame\n",
        "results_df = pd.DataFrame(results)\n",
        "\n",
        "# Display Table\n",
        "print(\"Model Performance Comparison Table\")\n",
        "print(results_df)\n",
        "\n",
        "# Save Table as CSV\n",
        "results_df.to_csv(\"model_comparison_results.csv\", index=False)\n",
        "print(\"Results saved as model_comparison_results.csv\")"
      ],
      "metadata": {
        "colab": {
          "base_uri": "https://localhost:8080/"
        },
        "id": "QVqrUcSe6MhW",
        "outputId": "230afa50-03c9-4e90-a552-13451453bf2f"
      },
      "id": "QVqrUcSe6MhW",
      "execution_count": null,
      "outputs": [
        {
          "output_type": "stream",
          "name": "stdout",
          "text": [
            "\u001b[1m11/11\u001b[0m \u001b[32m━━━━━━━━━━━━━━━━━━━━\u001b[0m\u001b[37m\u001b[0m \u001b[1m1s\u001b[0m 71ms/step\n",
            "\u001b[1m11/11\u001b[0m \u001b[32m━━━━━━━━━━━━━━━━━━━━\u001b[0m\u001b[37m\u001b[0m \u001b[1m1s\u001b[0m 49ms/step\n",
            "\u001b[1m11/11\u001b[0m \u001b[32m━━━━━━━━━━━━━━━━━━━━\u001b[0m\u001b[37m\u001b[0m \u001b[1m1s\u001b[0m 47ms/step\n",
            "\u001b[1m11/11\u001b[0m \u001b[32m━━━━━━━━━━━━━━━━━━━━\u001b[0m\u001b[37m\u001b[0m \u001b[1m1s\u001b[0m 107ms/step\n",
            "\u001b[1m11/11\u001b[0m \u001b[32m━━━━━━━━━━━━━━━━━━━━\u001b[0m\u001b[37m\u001b[0m \u001b[1m1s\u001b[0m 108ms/step\n",
            "\u001b[1m11/11\u001b[0m \u001b[32m━━━━━━━━━━━━━━━━━━━━\u001b[0m\u001b[37m\u001b[0m \u001b[1m1s\u001b[0m 111ms/step\n",
            "\u001b[1m11/11\u001b[0m \u001b[32m━━━━━━━━━━━━━━━━━━━━\u001b[0m\u001b[37m\u001b[0m \u001b[1m1s\u001b[0m 75ms/step\n",
            "\u001b[1m11/11\u001b[0m \u001b[32m━━━━━━━━━━━━━━━━━━━━\u001b[0m\u001b[37m\u001b[0m \u001b[1m1s\u001b[0m 77ms/step\n",
            "\u001b[1m11/11\u001b[0m \u001b[32m━━━━━━━━━━━━━━━━━━━━\u001b[0m\u001b[37m\u001b[0m \u001b[1m1s\u001b[0m 71ms/step\n",
            "\u001b[1m11/11\u001b[0m \u001b[32m━━━━━━━━━━━━━━━━━━━━\u001b[0m\u001b[37m\u001b[0m \u001b[1m6s\u001b[0m 546ms/step\n",
            "\u001b[1m11/11\u001b[0m \u001b[32m━━━━━━━━━━━━━━━━━━━━\u001b[0m\u001b[37m\u001b[0m \u001b[1m3s\u001b[0m 311ms/step\n",
            "\u001b[1m11/11\u001b[0m \u001b[32m━━━━━━━━━━━━━━━━━━━━\u001b[0m\u001b[37m\u001b[0m \u001b[1m5s\u001b[0m 429ms/step\n",
            "Model Performance Comparison Table\n",
            "        Model  Word2Vec Accuracy  GloVe Accuracy  FastText Accuracy\n",
            "0         CNN           0.553623        0.553623           0.553623\n",
            "1        LSTM           0.452174        0.452174           0.452174\n",
            "2  CNN-BiLSTM           0.533333        0.533333           0.533333\n",
            "3      BiLSTM           0.440580        0.440580           0.440580\n",
            "Results saved as model_comparison_results.csv\n"
          ]
        }
      ]
    },
    {
      "cell_type": "code",
      "source": [
        "models['CNN'].save('cnn_model.keras')  # CNN Model\n",
        "models['LSTM'].save('lstm_model.keras')  # LSTM Model\n",
        "models['CNN-BiLSTM'].save('cnn_bilstm_model.keras')  # CNN-BiLSTM Model\n",
        "models['BiLSTM'].save('bilstm_model.keras')  # BiLSTM Model\n",
        "\n",
        "print(\"All models saved successfully.\")"
      ],
      "metadata": {
        "colab": {
          "base_uri": "https://localhost:8080/"
        },
        "id": "HotTq5IH_8WE",
        "outputId": "53329301-d440-41fa-b072-b5c64c047092"
      },
      "id": "HotTq5IH_8WE",
      "execution_count": null,
      "outputs": [
        {
          "output_type": "stream",
          "name": "stdout",
          "text": [
            "All models saved successfully.\n"
          ]
        }
      ]
    },
    {
      "cell_type": "code",
      "source": [
        "import pickle\n",
        "\n",
        "# Save the tokenizer\n",
        "with open('tokenizer.pkl', 'wb') as f:\n",
        "    pickle.dump(tokenizer, f)\n",
        "\n",
        "# Save the label encoder using the correct variable name 'label_encoder'\n",
        "with open('label_encoder.pkl', 'wb') as f:\n",
        "    pickle.dump(label_encoder, f)\n",
        "\n",
        "print(\"Tokenizer and label encoder saved.\")"
      ],
      "metadata": {
        "colab": {
          "base_uri": "https://localhost:8080/"
        },
        "id": "6GuafJFjALET",
        "outputId": "ccae6eaa-4101-4906-9fb9-2f4a1f165583"
      },
      "id": "6GuafJFjALET",
      "execution_count": null,
      "outputs": [
        {
          "output_type": "stream",
          "name": "stdout",
          "text": [
            "Tokenizer and label encoder saved.\n"
          ]
        }
      ]
    },
    {
      "cell_type": "code",
      "source": [
        "import pandas as pd\n",
        "\n",
        "# Sample news articles for testing\n",
        "data = {\n",
        "    \"News_Article\": [\n",
        "        \"Stock markets surged today after the Federal Reserve announced interest rate cuts.\",\n",
        "        \"A major earthquake hit California, causing widespread damage and casualties.\",\n",
        "        \"Tech giant releases new AI-powered smartphone, promising better user experience.\",\n",
        "        \"Government announces new policies to curb inflation and boost economic growth.\",\n",
        "        \"Football team wins championship after a thrilling last-minute goal.\",\n",
        "        \"Unemployment rates drop as companies ramp up hiring in various sectors.\",\n",
        "        \"Heavy rains cause severe flooding in several coastal regions.\",\n",
        "        \"Scientists discover a new planet with conditions similar to Earth.\",\n",
        "        \"Political tensions rise as leaders engage in heated debates over new policies.\",\n",
        "        \"Healthcare reforms aim to make medical treatments more affordable for citizens.\"\n",
        "    ]\n",
        "}\n",
        "\n",
        "# Create a DataFrame\n",
        "df = pd.DataFrame(data)\n",
        "\n",
        "# Save to CSV\n",
        "df.to_csv('news_test.csv', index=False)\n",
        "\n",
        "print(\"Sample 'news_test.csv' has been created!\")"
      ],
      "metadata": {
        "colab": {
          "base_uri": "https://localhost:8080/"
        },
        "id": "jHiawSZBJ4K-",
        "outputId": "06c77e66-aa48-4682-ab81-044dd21353c2"
      },
      "id": "jHiawSZBJ4K-",
      "execution_count": null,
      "outputs": [
        {
          "output_type": "stream",
          "name": "stdout",
          "text": [
            "Sample 'news_test.csv' has been created!\n"
          ]
        }
      ]
    },
    {
      "cell_type": "code",
      "source": [
        "import pickle\n",
        "import numpy as np\n",
        "import re\n",
        "from tensorflow.keras.models import load_model\n",
        "from tensorflow.keras.preprocessing.sequence import pad_sequences\n",
        "\n",
        "# Load tokenizer\n",
        "with open('tokenizer.pkl', 'rb') as f:\n",
        "    tokenizer = pickle.load(f)\n",
        "\n",
        "# Load label encoder\n",
        "with open('label_encoder.pkl', 'rb') as f:\n",
        "    le = pickle.load(f)\n",
        "\n",
        "# Load trained model (Choose the model you want: CNN, LSTM, BiLSTM, CNN-BiLSTM)\n",
        "model = load_model('cnn_model.keras')  # Change to 'cnn_model.keras' or others if needed\n",
        "\n",
        "# Define a text preprocessing function\n",
        "def preprocess_text(text):\n",
        "    text = text.lower()  # Convert to lowercase\n",
        "    text = re.sub(r'\\W', ' ', text)  # Remove special characters\n",
        "    text = re.sub(r'\\s+', ' ', text).strip()  # Remove extra spaces\n",
        "    return text\n",
        "\n",
        "# Function to predict sentiment of a single text\n",
        "def predict_sentiment(text):\n",
        "    processed_text = preprocess_text(text)  # Preprocess the input text\n",
        "    seq = tokenizer.texts_to_sequences([processed_text])  # Convert to sequence\n",
        "    max_seq_length = 200  # Ensure this matches training max length\n",
        "    padded_seq = pad_sequences(seq, maxlen=max_seq_length)  # Pad sequence\n",
        "\n",
        "    prediction = model.predict(padded_seq)  # Get model prediction\n",
        "    predicted_class = np.argmax(prediction, axis=1)  # Get the class index\n",
        "    sentiment_label = le.inverse_transform(predicted_class)[0]  # Decode the label\n",
        "\n",
        "    return sentiment_label"
      ],
      "metadata": {
        "id": "VMUE-jaoMXGF"
      },
      "id": "VMUE-jaoMXGF",
      "execution_count": null,
      "outputs": []
    },
    {
      "cell_type": "code",
      "source": [
        "\n",
        "# Example Usage\n",
        "text_input = \"Government announced a new tax policy\"\n",
        "predicted_sentiment = predict_sentiment(text_input)\n",
        "\n",
        "print(f\"Predicted Sentiment: {predicted_sentiment}\")\n"
      ],
      "metadata": {
        "colab": {
          "base_uri": "https://localhost:8080/"
        },
        "id": "AJnAjLtmNVtG",
        "outputId": "e1a284cc-75a9-497d-822d-c571f60d94ba"
      },
      "id": "AJnAjLtmNVtG",
      "execution_count": null,
      "outputs": [
        {
          "output_type": "stream",
          "name": "stdout",
          "text": [
            "\u001b[1m1/1\u001b[0m \u001b[32m━━━━━━━━━━━━━━━━━━━━\u001b[0m\u001b[37m\u001b[0m \u001b[1m0s\u001b[0m 67ms/step\n",
            "Predicted Sentiment: positive\n"
          ]
        }
      ]
    },
    {
      "cell_type": "code",
      "source": [],
      "metadata": {
        "id": "njH04qqaNuVg"
      },
      "id": "njH04qqaNuVg",
      "execution_count": null,
      "outputs": []
    }
  ],
  "metadata": {
    "colab": {
      "provenance": []
    },
    "language_info": {
      "name": "python"
    },
    "kernelspec": {
      "name": "python3",
      "display_name": "Python 3"
    }
  },
  "nbformat": 4,
  "nbformat_minor": 5
}